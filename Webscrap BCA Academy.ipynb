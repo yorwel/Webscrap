{
 "cells": [
  {
   "cell_type": "code",
   "execution_count": 102,
   "id": "cf9ad95d",
   "metadata": {
    "collapsed": true
   },
   "outputs": [
    {
     "name": "stdout",
     "output_type": "stream",
     "text": [
      "Defaulting to user installation because normal site-packages is not writeable\n",
      "Requirement already satisfied: requests in c:\\programdata\\anaconda3\\lib\\site-packages (2.28.1)\n",
      "Requirement already satisfied: beautifulsoup4 in c:\\programdata\\anaconda3\\lib\\site-packages (4.11.1)\n",
      "Requirement already satisfied: idna<4,>=2.5 in c:\\users\\royle\\appdata\\roaming\\python\\python39\\site-packages (from requests) (2.10)\n",
      "Requirement already satisfied: urllib3<1.27,>=1.21.1 in c:\\programdata\\anaconda3\\lib\\site-packages (from requests) (1.26.11)\n",
      "Requirement already satisfied: charset-normalizer<3,>=2 in c:\\programdata\\anaconda3\\lib\\site-packages (from requests) (2.0.4)\n",
      "Requirement already satisfied: certifi>=2017.4.17 in c:\\programdata\\anaconda3\\lib\\site-packages (from requests) (2022.9.14)\n",
      "Requirement already satisfied: soupsieve>1.2 in c:\\programdata\\anaconda3\\lib\\site-packages (from beautifulsoup4) (2.3.1)\n",
      "Defaulting to user installation because normal site-packages is not writeable\n",
      "Requirement already satisfied: nltk in c:\\programdata\\anaconda3\\lib\\site-packages (3.7)\n",
      "Requirement already satisfied: joblib in c:\\programdata\\anaconda3\\lib\\site-packages (from nltk) (1.1.0)\n",
      "Requirement already satisfied: tqdm in c:\\programdata\\anaconda3\\lib\\site-packages (from nltk) (4.64.1)\n",
      "Requirement already satisfied: click in c:\\programdata\\anaconda3\\lib\\site-packages (from nltk) (8.0.4)\n",
      "Requirement already satisfied: regex>=2021.8.3 in c:\\programdata\\anaconda3\\lib\\site-packages (from nltk) (2022.7.9)\n",
      "Requirement already satisfied: colorama in c:\\programdata\\anaconda3\\lib\\site-packages (from click->nltk) (0.4.5)\n"
     ]
    }
   ],
   "source": [
    "# Ctrl + / -> Bulk comment\n",
    "!pip install requests beautifulsoup4\n",
    "!pip install nltk"
   ]
  },
  {
   "cell_type": "code",
   "execution_count": 109,
   "id": "f1791fc9",
   "metadata": {},
   "outputs": [
    {
     "name": "stderr",
     "output_type": "stream",
     "text": [
      "[nltk_data] Downloading package punkt to\n",
      "[nltk_data]     C:\\Users\\royle\\AppData\\Roaming\\nltk_data...\n",
      "[nltk_data]   Package punkt is already up-to-date!\n"
     ]
    }
   ],
   "source": [
    "import requests\n",
    "from bs4 import BeautifulSoup\n",
    "import pandas as pd\n",
    "import re\n",
    "import nltk\n",
    "nltk.download('punkt')\n",
    "from nltk.tokenize import sent_tokenize\n",
    "import time\n",
    "import sys"
   ]
  },
  {
   "cell_type": "code",
   "execution_count": 111,
   "id": "4431a866",
   "metadata": {
    "scrolled": true
   },
   "outputs": [
    {
     "name": "stdout",
     "output_type": "stream",
     "text": [
      "Elapsed time: 42/42 seconds\n",
      "Total elapsed time: 43.02 seconds\n"
     ]
    }
   ],
   "source": [
    "# Specify keyword\n",
    "# keyword = 'safety'\n",
    "\n",
    "# Function to simulate some time-consuming task\n",
    "def time_consuming_task():\n",
    "    \n",
    "    # Replace 'url' with the website URL you want to scrape\n",
    "    url = 'https://www.bcaa.edu.sg/what-we-offer/courses'\n",
    "    url = url\n",
    "\n",
    "    response = requests.get(url)\n",
    "\n",
    "    if response.status_code != 200:\n",
    "        print(\"Failed to fetch the web page.\")\n",
    "        exit()\n",
    "\n",
    "    soup = BeautifulSoup(response.content, 'html.parser')\n",
    "\n",
    "    # Example: If the information is stored in <div> tags with class 'item'\n",
    "    course_list = []\n",
    "    for element in soup.find_all('article'):\n",
    "        # Assuming you want to extract the text content from each element\n",
    "        item_text = element.get_text()\n",
    "        course_list.append(item_text)\n",
    "\n",
    "    #Data cleanup\n",
    "    course_list = [re.sub(r'\\s+', ' ', item.strip()) for item in course_list]\n",
    "    course_list = [item.replace(' Click for more information', '') for item in course_list]\n",
    "\n",
    "    # Example: If the information is stored in <div> tags with class 'item'\n",
    "    courseurl = []\n",
    "    soup_f = soup.find('div', class_='article-list')\n",
    "\n",
    "    for link in soup_f.find_all('a'):\n",
    "        hyperlink = link.get('href')\n",
    "        courseurl.append(hyperlink)\n",
    "\n",
    "    courseurl = ['https://www.bcaa.edu.sg/' + item for item in courseurl]    \n",
    "\n",
    "\n",
    "    # Function to extract specific information from a webpage using BeautifulSoup\n",
    "    def extract_info_from_webpage(url):\n",
    "        try:\n",
    "            response = requests.get(url)\n",
    "            response.raise_for_status()  # Check if the request was successful\n",
    "\n",
    "            soup = BeautifulSoup(response.content, 'html.parser')\n",
    "\n",
    "            # Use BeautifulSoup to extract specific information from the webpage\n",
    "            # Replace the following line with your code to extract the desired information\n",
    "            specific_info = soup.find('div', class_='article-content').text.strip()\n",
    "\n",
    "    #         sentences = sent_tokenize(specific_info)\n",
    "    #         summary = ' '.join(sentences[:5])        \n",
    "    #         return summary\n",
    "\n",
    "            return specific_info\n",
    "        except requests.exceptions.RequestException as e:\n",
    "            print(f\"Error occurred while fetching data from URL: {url}\")\n",
    "            return None\n",
    "\n",
    "    courselist = list(zip(course_list,courseurl))\n",
    "    df = pd.DataFrame(courselist, columns=['Course Title', 'Course Url'])\n",
    "\n",
    "    # Add a new column 'Specific_Info' to store the extracted information\n",
    "    df['Course Content'] = df['Course Url'].apply(extract_info_from_webpage)\n",
    "\n",
    "    excel_filename = 'output.xlsx'\n",
    "    df.to_excel(excel_filename, index=False)\n",
    "\n",
    "# Start the timer\n",
    "start_time = time.time()\n",
    "\n",
    "for seconds in range(int(elapsed_time) + 1):\n",
    "    sys.stdout.write(f\"\\rElapsed time: {seconds}/{int(elapsed_time)} seconds\")\n",
    "    sys.stdout.flush()\n",
    "    time.sleep(1)\n",
    "\n",
    "# # Call your function or run your code here\n",
    "# for i in range(4):  # Loop 4 times (to show 3 seconds + final message)\n",
    "#     time_consuming_task()\n",
    "#     elapsed_time = time.time() - start_time\n",
    "#     sys.stdout.write(f\"\\rElapsed time: {elapsed_time:.2f} seconds\")\n",
    "#     sys.stdout.flush()\n",
    "\n",
    "# Stop the timer\n",
    "end_time = time.time()\n",
    "\n",
    "# Calculate the final elapsed time\n",
    "elapsed_time = end_time - start_time\n",
    "\n",
    "# Print the final elapsed time\n",
    "print(f\"\\nTotal elapsed time: {elapsed_time:.2f} seconds\")"
   ]
  }
 ],
 "metadata": {
  "kernelspec": {
   "display_name": "Python 3 (ipykernel)",
   "language": "python",
   "name": "python3"
  },
  "language_info": {
   "codemirror_mode": {
    "name": "ipython",
    "version": 3
   },
   "file_extension": ".py",
   "mimetype": "text/x-python",
   "name": "python",
   "nbconvert_exporter": "python",
   "pygments_lexer": "ipython3",
   "version": "3.9.13"
  }
 },
 "nbformat": 4,
 "nbformat_minor": 5
}
